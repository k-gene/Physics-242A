{
 "cells": [
  {
   "cell_type": "code",
   "execution_count": 8,
   "metadata": {},
   "outputs": [
    {
     "name": "stdout",
     "output_type": "stream",
     "text": [
      "Using matplotlib backend: Qt5Agg\n"
     ]
    }
   ],
   "source": [
    "import numpy as np\n",
    "import matplotlib.pyplot as plt\n",
    "from mpl_toolkits.mplot3d import Axes3D\n",
    "%matplotlib\n",
    "\n",
    "x_ini=np.array([0,0,0])\n",
    "v_ini=np.array([1,1,1])\n",
    "\n",
    "E_field=np.array([1,0,0])\n",
    "E_mag=np.linalg.norm(E_field)\n",
    "e_vec=E_field/E_mag\n",
    "\n",
    "B_field=np.array([0,0,1])\n",
    "B_mag=np.linalg.norm(B_field)\n",
    "b_vec=B_field/B_mag\n",
    "\n",
    "charge_to_mass=1.6e12/9.31\n",
    "omega=charge_to_mass*B_mag\n",
    "\n",
    "tau_fin=10*2*np.pi\n",
    "dtau=0.1\n",
    "tau_steps=int(tau_fin/dtau)\n",
    "dtau=tau_fin/tau_steps\n",
    "\n",
    "a_vec=b_vec*dtau/2\n",
    "\n",
    "vs=np.zeros(shape=(tau_steps+1,3))\n",
    "xs=np.zeros(shape=(tau_steps+1,3))\n",
    "\n",
    "vs[0,:]=v_ini\n",
    "xs[0,:]=x_ini\n",
    "\n",
    "for i in range(tau_steps):\n",
    "    c_vec=vs[i,:]+dtau*(E_mag*e_vec/B_mag+np.cross(vs[i,:],b_vec)/2)\n",
    "    vs[i+1,:]=(c_vec+np.dot(c_vec,a_vec)*a_vec-np.cross(a_vec,c_vec))/(1+np.dot(a_vec,a_vec))\n",
    "    xs[i+1,:]=xs[i,:]+vs[i+1,:]*dtau/omega\n",
    "\n",
    "fig=plt.figure()\n",
    "ax=fig.add_subplot(projection='3d')\n",
    "ax.plot(xs[:,0],xs[:,1],xs[:,2])\n",
    "\n",
    "x_min=np.min(xs[:,0])\n",
    "x_max=np.max(xs[:,0])\n",
    "y_min=np.min(xs[:,1])\n",
    "y_max=np.max(xs[:,1])\n",
    "z_min=np.min(xs[:,2])\n",
    "z_max=np.max(xs[:,2])\n",
    "\n",
    "#minimum=np.min([x_min,y_min,z_min])\n",
    "#maximum=np.max([x_max,y_max,z_max])\n",
    "interval=np.max([x_max-x_min,y_max-y_min,z_max-z_min])\n",
    "\n",
    "ax.auto_scale_xyz([(x_min+x_max-interval)/2,(x_min+x_max+interval)/2],\n",
    "                   [(y_min+y_max-interval)/2,(y_min+y_max+interval)/2],\n",
    "                   [(z_min+z_max-interval)/2,(z_min+z_max+interval)/2])"
   ]
  },
  {
   "cell_type": "code",
   "execution_count": null,
   "metadata": {},
   "outputs": [],
   "source": []
  }
 ],
 "metadata": {
  "kernelspec": {
   "display_name": "Python 3",
   "language": "python",
   "name": "python3"
  },
  "language_info": {
   "codemirror_mode": {
    "name": "ipython",
    "version": 3
   },
   "file_extension": ".py",
   "mimetype": "text/x-python",
   "name": "python",
   "nbconvert_exporter": "python",
   "pygments_lexer": "ipython3",
   "version": "3.6.9"
  }
 },
 "nbformat": 4,
 "nbformat_minor": 2
}
